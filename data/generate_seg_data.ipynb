{
 "cells": [
  {
   "cell_type": "code",
   "execution_count": 1,
   "metadata": {},
   "outputs": [],
   "source": [
    "import SimpleITK as sitk\n",
    "import numpy as np\n",
    "import scipy.ndimage\n",
    "import matplotlib.pyplot as plt\n",
    "import cv2\n",
    "\n",
    "# https://www.kaggle.com/arnavkj95/candidate-generation-and-luna16-preprocessing"
   ]
  },
  {
   "cell_type": "code",
   "execution_count": 2,
   "metadata": {},
   "outputs": [],
   "source": [
    "def load_itk(filename):\n",
    "    # Reads the image using SimpleITK\n",
    "    itkimage = sitk.ReadImage(filename)\n",
    "\n",
    "    # Convert the image to a  numpy array first and then shuffle the dimensions to get axis in the order z,y,x\n",
    "    ct_scan = sitk.GetArrayFromImage(itkimage)\n",
    "\n",
    "    # Read the origin of the ct_scan, will be used to convert the coordinates from world to voxel and vice versa.\n",
    "    origin = np.array(list(reversed(itkimage.GetOrigin())))\n",
    "\n",
    "    # Read the spacing along each dimension\n",
    "    spacing = np.array(list(reversed(itkimage.GetSpacing())))\n",
    "\n",
    "    return ct_scan, origin, spacing"
   ]
  },
  {
   "cell_type": "code",
   "execution_count": 3,
   "metadata": {},
   "outputs": [],
   "source": [
    "def load_x(path):# load x 3d image\n",
    "    img, origin, spacing = load_itk(path)\n",
    "    \n",
    "    #calculate resize factor\n",
    "    RESIZE_SPACING = [1, 1, 1]\n",
    "    resize_factor = spacing / RESIZE_SPACING\n",
    "    new_real_shape = img.shape * resize_factor\n",
    "    new_shape = np.round(new_real_shape)\n",
    "    real_resize = new_shape / img.shape\n",
    "    new_spacing = spacing / real_resize\n",
    "    #resize image\n",
    "    resized_img = scipy.ndimage.interpolation.zoom(img, real_resize)\n",
    "    \n",
    "    #print(resized_img.shape)\n",
    "    normalized_img = ((resized_img - np.min(resized_img)) / (np.max(resized_img) - np.min(resized_img))) * 255\n",
    "    return normalized_img"
   ]
  },
  {
   "cell_type": "code",
   "execution_count": 19,
   "metadata": {},
   "outputs": [],
   "source": [
    "def load_y(path):# load y 3d image\n",
    "    img, origin, spacing = load_itk(path)\n",
    "    img = img / 100# convert label to small interger\n",
    "    img = img.astype(int)\n",
    "    #img = np.where( x == label, 1, 0)\n",
    "    #print(np.max(img))\n",
    "    \n",
    "    return img, spacing\n",
    "\n",
    "def generate_y(img, spacing, z, label):# generate center of a label\n",
    "    z = int(z / spacing[1])\n",
    "    y_lst = []\n",
    "    x_lst = []\n",
    "    for y in range(img.shape[0]):\n",
    "        for x in range(img.shape[1]):\n",
    "            if img[y,x,z] == label:\n",
    "                y_lst.append(y)\n",
    "                x_lst.append(x)\n",
    "    if not x_lst:\n",
    "        return False\n",
    "    x_max, x_min, y_max, y_min = max(x_lst), min(x_lst), max(y_lst), min(y_lst)\n",
    "    x_center = int(((x_max + x_min) / 2) * y_spacing[1])\n",
    "    y_center = int((y_max + y_min) / 2)\n",
    "    \n",
    "    return (x_center, y_center)\n",
    "\n",
    "def load_y_label(path, label):\n",
    "    img, origin, spacing = load_itk(path)\n",
    "    img = img / 100# convert label to small interger\n",
    "    img = img.astype(int)\n",
    "    img = np.where( img == label, 255, 0)\n",
    "    \n",
    "    #calculate resize factor\n",
    "    RESIZE_SPACING = [1, 1, 1]\n",
    "    resize_factor = spacing / RESIZE_SPACING\n",
    "    new_real_shape = img.shape * resize_factor\n",
    "    new_shape = np.round(new_real_shape)\n",
    "    real_resize = new_shape / img.shape\n",
    "    new_spacing = spacing / real_resize\n",
    "    #resize image\n",
    "    resized_img = scipy.ndimage.interpolation.zoom(img, real_resize)\n",
    "    \n",
    "    resized_img = np.where( resized_img > 127, 255, 0)\n",
    "    \n",
    "    return resized_img"
   ]
  },
  {
   "cell_type": "code",
   "execution_count": 208,
   "metadata": {},
   "outputs": [
    {
     "data": {
      "text/plain": [
       "<matplotlib.image.AxesImage at 0x12f20a828>"
      ]
     },
     "execution_count": 208,
     "metadata": {},
     "output_type": "execute_result"
    },
    {
     "data": {
      "image/png": "[encoded data removed]",
      "text/plain": [
       "<Figure size 432x288 with 1 Axes>"
      ]
     },
     "metadata": {},
     "output_type": "display_data"
    }
   ],
   "source": [
    "#x = load_x('./Jack/images/case1.mhd')\n",
    "#y = load_y_label('./Jack/labeled/case1_label.mhd', 19)\n",
    "#plt.imshow(y[:,:,90], cmap='gray')"
   ]
  },
  {
   "cell_type": "code",
   "execution_count": 149,
   "metadata": {},
   "outputs": [
    {
     "name": "stdout",
     "output_type": "stream",
     "text": [
      "19\n"
     ]
    },
    {
     "data": {
      "text/plain": [
       "(66, 422)"
      ]
     },
     "execution_count": 149,
     "metadata": {},
     "output_type": "execute_result"
    }
   ],
   "source": [
    "#y_img, y_spacing = load_y('./Jack/labeled/case1_label.mhd')\n",
    "#generate_y(y_img, y_spacing, 90, 19)"
   ]
  },
  {
   "cell_type": "code",
   "execution_count": 19,
   "metadata": {},
   "outputs": [
    {
     "name": "stdout",
     "output_type": "stream",
     "text": [
      "(559, 512, 512)\n",
      "[1.     0.3125 0.3125]\n"
     ]
    }
   ],
   "source": [
    "#print(y_img.shape)\n",
    "#print(y_spacing)"
   ]
  },
  {
   "cell_type": "code",
   "execution_count": 26,
   "metadata": {},
   "outputs": [
    {
     "name": "stdout",
     "output_type": "stream",
     "text": [
      "0.0\n",
      "1.0\n",
      "0.0\n",
      "1.0\n",
      "case 1 label 2 done\n"
     ]
    },
    {
     "ename": "KeyboardInterrupt",
     "evalue": "",
     "output_type": "error",
     "traceback": [
      "\u001b[0;31m---------------------------------------------------------------------------\u001b[0m",
      "\u001b[0;31mKeyboardInterrupt\u001b[0m                         Traceback (most recent call last)",
      "\u001b[0;32m<ipython-input-26-4d4e78f86718>\u001b[0m in \u001b[0;36m<module>\u001b[0;34m()\u001b[0m\n\u001b[1;32m     17\u001b[0m     \u001b[0;31m#label = 19\u001b[0m\u001b[0;34m\u001b[0m\u001b[0;34m\u001b[0m\u001b[0m\n\u001b[1;32m     18\u001b[0m \u001b[0;34m\u001b[0m\u001b[0m\n\u001b[0;32m---> 19\u001b[0;31m         \u001b[0my_label\u001b[0m \u001b[0;34m=\u001b[0m \u001b[0mload_y_label\u001b[0m\u001b[0;34m(\u001b[0m\u001b[0my_path\u001b[0m\u001b[0;34m,\u001b[0m \u001b[0mlabel\u001b[0m\u001b[0;34m)\u001b[0m\u001b[0;34m\u001b[0m\u001b[0m\n\u001b[0m\u001b[1;32m     20\u001b[0m         \u001b[0mcenter\u001b[0m \u001b[0;34m=\u001b[0m \u001b[0mgenerate_y\u001b[0m\u001b[0;34m(\u001b[0m\u001b[0my_img\u001b[0m\u001b[0;34m,\u001b[0m \u001b[0my_spacing\u001b[0m\u001b[0;34m,\u001b[0m \u001b[0mz\u001b[0m\u001b[0;34m,\u001b[0m \u001b[0mlabel\u001b[0m\u001b[0;34m)\u001b[0m\u001b[0;34m\u001b[0m\u001b[0m\n\u001b[1;32m     21\u001b[0m \u001b[0;34m\u001b[0m\u001b[0m\n",
      "\u001b[0;32m<ipython-input-19-c0ad365ed773>\u001b[0m in \u001b[0;36mload_y_label\u001b[0;34m(path, label)\u001b[0m\n\u001b[1;32m     39\u001b[0m     \u001b[0mnew_spacing\u001b[0m \u001b[0;34m=\u001b[0m \u001b[0mspacing\u001b[0m \u001b[0;34m/\u001b[0m \u001b[0mreal_resize\u001b[0m\u001b[0;34m\u001b[0m\u001b[0m\n\u001b[1;32m     40\u001b[0m     \u001b[0;31m#resize image\u001b[0m\u001b[0;34m\u001b[0m\u001b[0;34m\u001b[0m\u001b[0m\n\u001b[0;32m---> 41\u001b[0;31m     \u001b[0mresized_img\u001b[0m \u001b[0;34m=\u001b[0m \u001b[0mscipy\u001b[0m\u001b[0;34m.\u001b[0m\u001b[0mndimage\u001b[0m\u001b[0;34m.\u001b[0m\u001b[0minterpolation\u001b[0m\u001b[0;34m.\u001b[0m\u001b[0mzoom\u001b[0m\u001b[0;34m(\u001b[0m\u001b[0mimg\u001b[0m\u001b[0;34m,\u001b[0m \u001b[0mreal_resize\u001b[0m\u001b[0;34m)\u001b[0m\u001b[0;34m\u001b[0m\u001b[0m\n\u001b[0m\u001b[1;32m     42\u001b[0m \u001b[0;34m\u001b[0m\u001b[0m\n\u001b[1;32m     43\u001b[0m     \u001b[0mresized_img\u001b[0m \u001b[0;34m=\u001b[0m \u001b[0mnp\u001b[0m\u001b[0;34m.\u001b[0m\u001b[0mwhere\u001b[0m\u001b[0;34m(\u001b[0m \u001b[0mresized_img\u001b[0m \u001b[0;34m>\u001b[0m \u001b[0;36m127\u001b[0m\u001b[0;34m,\u001b[0m \u001b[0;36m255\u001b[0m\u001b[0;34m,\u001b[0m \u001b[0;36m0\u001b[0m\u001b[0;34m)\u001b[0m\u001b[0;34m\u001b[0m\u001b[0m\n",
      "\u001b[0;32m/usr/local/lib/python3.7/site-packages/scipy/ndimage/interpolation.py\u001b[0m in \u001b[0;36mzoom\u001b[0;34m(input, zoom, output, order, mode, cval, prefilter)\u001b[0m\n\u001b[1;32m    593\u001b[0m                                                    shape=output_shape)\n\u001b[1;32m    594\u001b[0m     \u001b[0mzoom\u001b[0m \u001b[0;34m=\u001b[0m \u001b[0mnumpy\u001b[0m\u001b[0;34m.\u001b[0m\u001b[0mascontiguousarray\u001b[0m\u001b[0;34m(\u001b[0m\u001b[0mzoom\u001b[0m\u001b[0;34m)\u001b[0m\u001b[0;34m\u001b[0m\u001b[0m\n\u001b[0;32m--> 595\u001b[0;31m     \u001b[0m_nd_image\u001b[0m\u001b[0;34m.\u001b[0m\u001b[0mzoom_shift\u001b[0m\u001b[0;34m(\u001b[0m\u001b[0mfiltered\u001b[0m\u001b[0;34m,\u001b[0m \u001b[0mzoom\u001b[0m\u001b[0;34m,\u001b[0m \u001b[0;32mNone\u001b[0m\u001b[0;34m,\u001b[0m \u001b[0moutput\u001b[0m\u001b[0;34m,\u001b[0m \u001b[0morder\u001b[0m\u001b[0;34m,\u001b[0m \u001b[0mmode\u001b[0m\u001b[0;34m,\u001b[0m \u001b[0mcval\u001b[0m\u001b[0;34m)\u001b[0m\u001b[0;34m\u001b[0m\u001b[0m\n\u001b[0m\u001b[1;32m    596\u001b[0m     \u001b[0;32mreturn\u001b[0m \u001b[0moutput\u001b[0m\u001b[0;34m\u001b[0m\u001b[0m\n\u001b[1;32m    597\u001b[0m \u001b[0;34m\u001b[0m\u001b[0m\n",
      "\u001b[0;31mKeyboardInterrupt\u001b[0m: "
     ]
    },
    {
     "data": {
      "image/png": "[encoded data removed]",
      "text/plain": [
       "<Figure size 432x288 with 1 Axes>"
      ]
     },
     "metadata": {},
     "output_type": "display_data"
    }
   ],
   "source": [
    "# generate seg data\n",
    "\n",
    "for case in range(1, 11):\n",
    "    #case = 1\n",
    "    if case == 7:\n",
    "        continue\n",
    "    print('# case {}'.format(case))\n",
    "\n",
    "    z_center_lst = [0, 92, 80, 75, 92, 85, 85, 0, 82, 85, 72] # 0 = none\n",
    "    z = z_center_lst[case]\n",
    "    x_path = './Jack/images/case{}.mhd'.format(case)\n",
    "    y_path = './Jack/labeled/case{}_label.mhd'.format(case)\n",
    "\n",
    "    x_img = load_x(x_path)\n",
    "    y_img, y_spacing = load_y(y_path)\n",
    "\n",
    "    shape = x_img.shape\n",
    "    \n",
    "    for label in range(1, 20):\n",
    "        #label = 19\n",
    "        print('- label {}'.format(label))\n",
    "\n",
    "        y_label = load_y_label(y_path, label)\n",
    "        center = generate_y(y_img, y_spacing, z, label)\n",
    "        \n",
    "        if center == False:\n",
    "            continue\n",
    "        \n",
    "        center_x, center_y = center\n",
    "        \n",
    "        size = 128 # patch size = size*size*size\n",
    "        min_x, max_x, min_y, max_y = center_x - size/2, center_x + size/2, center_y - size/2, center_y + size/2\n",
    "\n",
    "        range_x = [\n",
    "            int(min_x if min_x > 0 else 0),\n",
    "            int(max_x if max_x < (shape[1] - 1) else (shape[1] - 1))\n",
    "        ]\n",
    "        range_y = [\n",
    "            int(min_y if min_y > 0 else 0),\n",
    "            int(max_y if max_y < (shape[0] - 1) else (shape[0] - 1))\n",
    "        ]\n",
    "        range_z = [\n",
    "            int(z - size/2),\n",
    "            int(z + size/2)\n",
    "        ]\n",
    "        #print(range_x)\n",
    "        #print(range_y)\n",
    "        #print(center_x)\n",
    "\n",
    "        padding_y = (\n",
    "        int(size/2) - center_y + range_y[0],\n",
    "        int(size/2) - range_y[1] + center_y\n",
    "        )\n",
    "        padding_x = (\n",
    "            int(size/2) - center_x + range_x[0],\n",
    "            int(size/2) - range_x[1] + center_x\n",
    "        )\n",
    "\n",
    "        out_x = np.pad(\n",
    "            x_img[\n",
    "                range_y[0]: range_y[1]\n",
    "                , range_x[0]: range_x[1]\n",
    "                , range_z[0]: range_z[1]],\n",
    "            (padding_y, padding_x, (0, 0)),\n",
    "            'constant') / 255\n",
    "        out_y = np.pad(\n",
    "            y_label[\n",
    "                range_y[0]: range_y[1]\n",
    "                , range_x[0]: range_x[1]\n",
    "                , range_z[0]: range_z[1]],\n",
    "            (padding_y, padding_x, (0, 0)),\n",
    "            'constant') / 255\n",
    "        #print(np.min(out_x))\n",
    "        #print(np.max(out_x))\n",
    "        #print(np.min(out_y))\n",
    "        #print(np.max(out_y))\n",
    "\n",
    "        #plt.imshow(out_x[:,:,65], cmap='gray')\n",
    "        #plt.imshow(out_y[:,:,65], cmap='gray')\n",
    "\n",
    "        np.save('./seg_data/x/case{}_label{}.npy'.format(case, label), out_x)\n",
    "        np.save('./seg_data/y/case{}_label{}.npy'.format(case, label), out_y)\n",
    "        print('case {} label {} done'.format(case, label))"
   ]
  },
  {
   "cell_type": "code",
   "execution_count": 22,
   "metadata": {},
   "outputs": [
    {
     "name": "stdout",
     "output_type": "stream",
     "text": [
      "1\n",
      "3\n",
      "4\n",
      "5\n",
      "6\n",
      "7\n",
      "8\n",
      "9\n",
      "10\n"
     ]
    }
   ],
   "source": []
  },
  {
   "cell_type": "code",
   "execution_count": null,
   "metadata": {},
   "outputs": [],
   "source": []
  },
  {
   "cell_type": "code",
   "execution_count": null,
   "metadata": {},
   "outputs": [],
   "source": []
  },
  {
   "cell_type": "code",
   "execution_count": null,
   "metadata": {},
   "outputs": [],
   "source": []
  },
  {
   "cell_type": "code",
   "execution_count": null,
   "metadata": {},
   "outputs": [],
   "source": []
  }
 ],
 "metadata": {
  "kernelspec": {
   "display_name": "Python 3",
   "language": "python",
   "name": "python3"
  },
  "language_info": {
   "codemirror_mode": {
    "name": "ipython",
    "version": 3
   },
   "file_extension": ".py",
   "mimetype": "text/x-python",
   "name": "python",
   "nbconvert_exporter": "python",
   "pygments_lexer": "ipython3",
   "version": "3.7.0"
  }
 },
 "nbformat": 4,
 "nbformat_minor": 2
}
