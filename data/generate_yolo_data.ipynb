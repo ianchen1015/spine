{
 "cells": [
  {
   "cell_type": "code",
   "execution_count": 1,
   "metadata": {},
   "outputs": [],
   "source": [
    "import SimpleITK as sitk\n",
    "import numpy as np\n",
    "import scipy.ndimage\n",
    "import matplotlib.pyplot as plt\n",
    "import cv2\n",
    "\n",
    "# https://www.kaggle.com/arnavkj95/candidate-generation-and-luna16-preprocessing"
   ]
  },
  {
   "cell_type": "code",
   "execution_count": 2,
   "metadata": {},
   "outputs": [],
   "source": [
    "def load_itk(filename):\n",
    "    # Reads the image using SimpleITK\n",
    "    itkimage = sitk.ReadImage(filename)\n",
    "\n",
    "    # Convert the image to a  numpy array first and then shuffle the dimensions to get axis in the order z,y,x\n",
    "    ct_scan = sitk.GetArrayFromImage(itkimage)\n",
    "\n",
    "    # Read the origin of the ct_scan, will be used to convert the coordinates from world to voxel and vice versa.\n",
    "    origin = np.array(list(reversed(itkimage.GetOrigin())))\n",
    "\n",
    "    # Read the spacing along each dimension\n",
    "    spacing = np.array(list(reversed(itkimage.GetSpacing())))\n",
    "\n",
    "    return ct_scan, origin, spacing"
   ]
  },
  {
   "cell_type": "code",
   "execution_count": 3,
   "metadata": {},
   "outputs": [],
   "source": [
    "def load_x(path):# load x 3d image\n",
    "    img, origin, spacing = load_itk(path)\n",
    "    \n",
    "    #calculate resize factor\n",
    "    RESIZE_SPACING = [1, 1, 1]\n",
    "    resize_factor = spacing / RESIZE_SPACING\n",
    "    new_real_shape = img.shape * resize_factor\n",
    "    new_shape = np.round(new_real_shape)\n",
    "    real_resize = new_shape / img.shape\n",
    "    new_spacing = spacing / real_resize\n",
    "    #resize image\n",
    "    resized_img = scipy.ndimage.interpolation.zoom(img, real_resize)\n",
    "    \n",
    "    print(resized_img.shape)\n",
    "    normalized_img = ((resized_img - np.min(resized_img)) / (np.max(resized_img) - np.min(resized_img))) * 255\n",
    "    return normalized_img"
   ]
  },
  {
   "cell_type": "code",
   "execution_count": 4,
   "metadata": {},
   "outputs": [],
   "source": [
    "def load_y(path):# load y 3d image\n",
    "    img, origin, spacing = load_itk(path)\n",
    "    img = img / 100# convert label to small interger\n",
    "    img = img.astype(int)\n",
    "    \n",
    "    return img, spacing\n",
    "\n",
    "def generate_y(img, spacing, z, label):# generate yolo format from slice z for a label\n",
    "    z = int(z / spacing[1])\n",
    "    #print(np.unique(img[:,:,z]))\n",
    "    #plt.imshow(img[:,:,z], cmap=\"gray\")\n",
    "    #print(z)\n",
    "    #label = 19\n",
    "    # finding the range of a label area\n",
    "    y_lst = []\n",
    "    x_lst = []\n",
    "    for y in range(img.shape[0]):\n",
    "        for x in range(img.shape[1]):\n",
    "            if img[y,x,z] == label:\n",
    "                y_lst.append(y)\n",
    "                x_lst.append(x)\n",
    "    if not x_lst:\n",
    "        return False\n",
    "    #print(max(y_lst), min(y_lst))\n",
    "    #print(max(x_lst), min(x_lst))\n",
    "    x_max, x_min, y_max, y_min = max(x_lst), min(x_lst), max(y_lst), min(y_lst)\n",
    "    # convert bonding box to YOLO format\n",
    "    x_center = ((x_max + x_min) / 2) / img.shape[1]\n",
    "    y_center = ((y_max + y_min) / 2) / img.shape[0]\n",
    "    x_width = (x_max - x_min) / img.shape[1]\n",
    "    y_width = (y_max - y_min) / img.shape[0]\n",
    "    #print(x_center)\n",
    "    #print(y_center)\n",
    "    #print(x_width)\n",
    "    #print(y_width)\n",
    "    return [str(x_center), str(y_center), str(x_width), str(y_width)]"
   ]
  },
  {
   "cell_type": "code",
   "execution_count": 5,
   "metadata": {},
   "outputs": [
    {
     "name": "stdout",
     "output_type": "stream",
     "text": [
      "(559, 160, 160)\n"
     ]
    }
   ],
   "source": [
    "#x = load_x('./Jack/images/case1.mhd')\n",
    "x = load_x('./Jack/labeled/case1_label.mhd')"
   ]
  },
  {
   "cell_type": "code",
   "execution_count": 7,
   "metadata": {},
   "outputs": [
    {
     "data": {
      "text/plain": [
       "<matplotlib.image.AxesImage at 0x1336966d8>"
      ]
     },
     "execution_count": 7,
     "metadata": {},
     "output_type": "execute_result"
    },
    {
     "data": {
      "image/png": "[encoded data removed]",
      "text/plain": [
       "<Figure size 432x288 with 1 Axes>"
      ]
     },
     "metadata": {},
     "output_type": "display_data"
    }
   ],
   "source": [
    "#plt.imshow(x[:,:,100], cmap='gray')#85-100\n",
    "plt.imshow(x[:,:,100])#85-100"
   ]
  },
  {
   "cell_type": "code",
   "execution_count": 47,
   "metadata": {},
   "outputs": [
    {
     "name": "stdout",
     "output_type": "stream",
     "text": [
      "[ 0  2  3  4  5  6  7  8  9 10 11 12 13 14 15 16 17 18]\n"
     ]
    },
    {
     "data": {
      "text/plain": [
       "False"
      ]
     },
     "execution_count": 47,
     "metadata": {},
     "output_type": "execute_result"
    }
   ],
   "source": [
    "y_img, y_spacing = load_y('./Jack/labeled/case10_label.mhd')\n",
    "generate_y(y_img, y_spacing, 90, 19)# 0-19"
   ]
  },
  {
   "cell_type": "code",
   "execution_count": 22,
   "metadata": {},
   "outputs": [
    {
     "name": "stdout",
     "output_type": "stream",
     "text": [
      "(552, 160, 160)\n"
     ]
    }
   ],
   "source": [
    "# generate x and y for yolo training\n",
    "\n",
    "# load x and y\n",
    "case = 10\n",
    "x_path = './Jack/images/case' + str(case) + '.mhd'\n",
    "y_path = './Jack/labeled/case' + str(case) + '_label.mhd'\n",
    "x = load_x(x_path)\n",
    "y_img, y_spacing = load_y(y_path)"
   ]
  },
  {
   "cell_type": "code",
   "execution_count": 236,
   "metadata": {},
   "outputs": [
    {
     "data": {
      "text/plain": [
       "<matplotlib.image.AxesImage at 0x142aa3828>"
      ]
     },
     "execution_count": 236,
     "metadata": {},
     "output_type": "execute_result"
    },
    {
     "data": {
      "image/png": "[encoded data removed]",
      "text/plain": [
       "<Figure size 432x288 with 1 Axes>"
      ]
     },
     "metadata": {},
     "output_type": "display_data"
    }
   ],
   "source": [
    "plt.imshow(x[:,:,80], cmap='gray')#85-100\n",
    "#case, range\n",
    "#1, 85-100\n",
    "#2, 75-85\n",
    "#3, 70-80\n",
    "#4, 85-100\n",
    "#5, 80-90\n",
    "#6, 75-95\n",
    "#7, none\n",
    "#8, 80-85\n",
    "#9, 80-90\n",
    "#10, 65-80"
   ]
  },
  {
   "cell_type": "code",
   "execution_count": 23,
   "metadata": {},
   "outputs": [
    {
     "name": "stdout",
     "output_type": "stream",
     "text": [
      "65\n",
      "output\n",
      "66\n",
      "output\n",
      "67\n",
      "output\n",
      "68\n",
      "output\n",
      "69\n",
      "output\n",
      "70\n",
      "output\n",
      "71\n",
      "output\n",
      "72\n",
      "output\n",
      "73\n",
      "output\n",
      "74\n",
      "output\n",
      "75\n",
      "output\n",
      "76\n",
      "output\n",
      "77\n",
      "output\n",
      "78\n",
      "output\n",
      "79\n",
      "output\n",
      "80\n",
      "output\n"
     ]
    }
   ],
   "source": [
    "# generate images and labels files for yolo training\n",
    "\n",
    "for z in range(65,81):\n",
    "    label_cnt = 1 # count of label occur\n",
    "    y_lst = []\n",
    "    for label in range(1, 20):# 1-19, 0 is background\n",
    "        y = generate_y(y_img, y_spacing, z, label)\n",
    "        if y != False:\n",
    "            y = [str(label)] + y\n",
    "            y_lst.append(y)\n",
    "            label_cnt += 1\n",
    "    \n",
    "    print(z)\n",
    "    if label_cnt > 15:\n",
    "        print('output')\n",
    "        file_name = str(case)+ '_' + str(z)\n",
    "\n",
    "        # save x\n",
    "        #plt.imshow(x[:,:,z], cmap='gray')\n",
    "        cv2.imwrite('./yolo_data/images/case' + file_name + '.jpg', x[:,:,z])\n",
    "\n",
    "        # save y\n",
    "        line_lst = []\n",
    "        for y in y_lst:\n",
    "            line_lst.append(' '.join((y)))\n",
    "        with open('./yolo_data/labels/case' + file_name + '.txt', \"w\") as f:\n",
    "            f.writelines('\\n'.join(line_lst))\n",
    "    \n"
   ]
  },
  {
   "cell_type": "markdown",
   "metadata": {},
   "source": []
  },
  {
   "cell_type": "code",
   "execution_count": 26,
   "metadata": {},
   "outputs": [
    {
     "name": "stdout",
     "output_type": "stream",
     "text": [
      "./yolo_data/images/case10_65.jpg\n",
      "./yolo_data/images/case10_66.jpg\n",
      "./yolo_data/images/case10_67.jpg\n",
      "./yolo_data/images/case10_68.jpg\n",
      "./yolo_data/images/case10_69.jpg\n",
      "./yolo_data/images/case10_70.jpg\n",
      "./yolo_data/images/case10_71.jpg\n",
      "./yolo_data/images/case10_72.jpg\n",
      "./yolo_data/images/case10_73.jpg\n",
      "./yolo_data/images/case10_74.jpg\n",
      "./yolo_data/images/case10_75.jpg\n",
      "./yolo_data/images/case10_76.jpg\n",
      "./yolo_data/images/case10_77.jpg\n",
      "./yolo_data/images/case10_78.jpg\n",
      "./yolo_data/images/case10_79.jpg\n",
      "./yolo_data/images/case10_80.jpg\n",
      "./yolo_data/images/case1_100.jpg\n",
      "./yolo_data/images/case1_85.jpg\n",
      "./yolo_data/images/case1_86.jpg\n",
      "./yolo_data/images/case1_87.jpg\n",
      "./yolo_data/images/case1_88.jpg\n",
      "./yolo_data/images/case1_89.jpg\n",
      "./yolo_data/images/case1_90.jpg\n",
      "./yolo_data/images/case1_91.jpg\n",
      "./yolo_data/images/case1_92.jpg\n",
      "./yolo_data/images/case1_93.jpg\n",
      "./yolo_data/images/case1_94.jpg\n",
      "./yolo_data/images/case1_95.jpg\n",
      "./yolo_data/images/case1_96.jpg\n",
      "./yolo_data/images/case1_97.jpg\n",
      "./yolo_data/images/case1_98.jpg\n",
      "./yolo_data/images/case1_99.jpg\n",
      "./yolo_data/images/case2_75.jpg\n",
      "./yolo_data/images/case2_76.jpg\n",
      "./yolo_data/images/case2_77.jpg\n",
      "./yolo_data/images/case2_78.jpg\n",
      "./yolo_data/images/case2_79.jpg\n",
      "./yolo_data/images/case2_80.jpg\n",
      "./yolo_data/images/case2_81.jpg\n",
      "./yolo_data/images/case2_82.jpg\n",
      "./yolo_data/images/case2_83.jpg\n",
      "./yolo_data/images/case2_84.jpg\n",
      "./yolo_data/images/case2_85.jpg\n",
      "./yolo_data/images/case3_70.jpg\n",
      "./yolo_data/images/case3_71.jpg\n",
      "./yolo_data/images/case3_72.jpg\n",
      "./yolo_data/images/case3_73.jpg\n",
      "./yolo_data/images/case3_74.jpg\n",
      "./yolo_data/images/case3_75.jpg\n",
      "./yolo_data/images/case3_76.jpg\n",
      "./yolo_data/images/case3_77.jpg\n",
      "./yolo_data/images/case3_78.jpg\n",
      "./yolo_data/images/case3_79.jpg\n",
      "./yolo_data/images/case3_80.jpg\n",
      "./yolo_data/images/case4_100.jpg\n",
      "./yolo_data/images/case4_85.jpg\n",
      "./yolo_data/images/case4_86.jpg\n",
      "./yolo_data/images/case4_87.jpg\n",
      "./yolo_data/images/case4_88.jpg\n",
      "./yolo_data/images/case4_89.jpg\n",
      "./yolo_data/images/case4_90.jpg\n",
      "./yolo_data/images/case4_91.jpg\n",
      "./yolo_data/images/case4_92.jpg\n",
      "./yolo_data/images/case4_93.jpg\n",
      "./yolo_data/images/case4_94.jpg\n",
      "./yolo_data/images/case4_95.jpg\n",
      "./yolo_data/images/case4_96.jpg\n",
      "./yolo_data/images/case4_97.jpg\n",
      "./yolo_data/images/case4_98.jpg\n",
      "./yolo_data/images/case4_99.jpg\n",
      "./yolo_data/images/case5_80.jpg\n",
      "./yolo_data/images/case5_81.jpg\n",
      "./yolo_data/images/case5_82.jpg\n",
      "./yolo_data/images/case5_83.jpg\n",
      "./yolo_data/images/case5_84.jpg\n",
      "./yolo_data/images/case5_85.jpg\n",
      "./yolo_data/images/case5_86.jpg\n",
      "./yolo_data/images/case5_87.jpg\n",
      "./yolo_data/images/case5_88.jpg\n",
      "./yolo_data/images/case5_89.jpg\n",
      "./yolo_data/images/case5_90.jpg\n",
      "./yolo_data/images/case6_75.jpg\n",
      "./yolo_data/images/case6_76.jpg\n",
      "./yolo_data/images/case6_77.jpg\n",
      "./yolo_data/images/case6_78.jpg\n",
      "./yolo_data/images/case6_79.jpg\n",
      "./yolo_data/images/case6_80.jpg\n",
      "./yolo_data/images/case6_81.jpg\n",
      "./yolo_data/images/case6_82.jpg\n",
      "./yolo_data/images/case6_83.jpg\n",
      "./yolo_data/images/case6_84.jpg\n",
      "./yolo_data/images/case6_85.jpg\n",
      "./yolo_data/images/case6_86.jpg\n",
      "./yolo_data/images/case6_87.jpg\n",
      "./yolo_data/images/case6_88.jpg\n",
      "./yolo_data/images/case6_89.jpg\n",
      "./yolo_data/images/case6_90.jpg\n",
      "./yolo_data/images/case6_91.jpg\n",
      "./yolo_data/images/case6_92.jpg\n",
      "./yolo_data/images/case6_93.jpg\n",
      "./yolo_data/images/case6_94.jpg\n",
      "./yolo_data/images/case6_95.jpg\n",
      "./yolo_data/images/case8_80.jpg\n",
      "./yolo_data/images/case8_81.jpg\n",
      "./yolo_data/images/case8_82.jpg\n",
      "./yolo_data/images/case8_83.jpg\n",
      "./yolo_data/images/case8_84.jpg\n",
      "./yolo_data/images/case8_85.jpg\n",
      "./yolo_data/images/case9_80.jpg\n",
      "./yolo_data/images/case9_81.jpg\n",
      "./yolo_data/images/case9_82.jpg\n",
      "./yolo_data/images/case9_83.jpg\n",
      "./yolo_data/images/case9_84.jpg\n",
      "./yolo_data/images/case9_85.jpg\n",
      "./yolo_data/images/case9_86.jpg\n",
      "./yolo_data/images/case9_87.jpg\n",
      "./yolo_data/images/case9_88.jpg\n",
      "./yolo_data/images/case9_89.jpg\n",
      "./yolo_data/images/case9_90.jpg\n"
     ]
    }
   ],
   "source": [
    "# generate file list\n",
    "\n",
    "import glob, os\n",
    "\n",
    "# Current directory\n",
    "current_dir = './yolo_data/images/'\n",
    "\n",
    "# Directory where the data will reside, relative to 'darknet.exe'\n",
    "path_data = 'data/ian/'\n",
    "\n",
    "# Percentage of images to be used for the test set\n",
    "percentage_test = 10;\n",
    "\n",
    "# Create and/or truncate train.txt and test.txt\n",
    "file_train = open('./yolo_data/train.txt', 'w')  \n",
    "file_test = open('./yolo_data/test.txt', 'w')\n",
    "\n",
    "# Populate train.txt and test.txt\n",
    "counter = 1  \n",
    "index_test = round(100 / percentage_test)  \n",
    "for pathAndFilename in glob.iglob(os.path.join(current_dir, \"*.jpg\")):  \n",
    "    print(pathAndFilename)\n",
    "    title, ext = os.path.splitext(os.path.basename(pathAndFilename))\n",
    "\n",
    "    if counter == index_test:\n",
    "        counter = 1\n",
    "        file_test.write(path_data + title + '.jpg' + \"\\n\")\n",
    "    else:\n",
    "        file_train.write(path_data + title + '.jpg' + \"\\n\")\n",
    "        counter = counter + 1"
   ]
  },
  {
   "cell_type": "code",
   "execution_count": null,
   "metadata": {},
   "outputs": [],
   "source": []
  },
  {
   "cell_type": "code",
   "execution_count": null,
   "metadata": {},
   "outputs": [],
   "source": []
  }
 ],
 "metadata": {
  "kernelspec": {
   "display_name": "Python 3",
   "language": "python",
   "name": "python3"
  },
  "language_info": {
   "codemirror_mode": {
    "name": "ipython",
    "version": 3
   },
   "file_extension": ".py",
   "mimetype": "text/x-python",
   "name": "python",
   "nbconvert_exporter": "python",
   "pygments_lexer": "ipython3",
   "version": "3.7.0"
  }
 },
 "nbformat": 4,
 "nbformat_minor": 2
}
