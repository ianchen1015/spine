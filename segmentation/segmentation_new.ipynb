{
 "cells": [
  {
   "cell_type": "code",
   "execution_count": 1,
   "metadata": {},
   "outputs": [
    {
     "name": "stderr",
     "output_type": "stream",
     "text": [
      "Using TensorFlow backend.\n"
     ]
    },
    {
     "name": "stdout",
     "output_type": "stream",
     "text": [
      "libs loaded\n"
     ]
    }
   ],
   "source": [
    "import keras\n",
    "import os\n",
    "os.environ['KERAS_BACKEND']='tensorflow'\n",
    "import h5py\n",
    "import cv2\n",
    "import matplotlib.pyplot as plt\n",
    "import numpy as np\n",
    "from os import walk\n",
    "import random\n",
    "\n",
    "np.random.seed(1337)  # for reproducibility\n",
    "\n",
    "def setGPU():\n",
    "    os.environ[\"CUDA_VISIBLE_DEVICES\"] = \"1\"\n",
    "    import tensorflow as tf\n",
    "    from keras.backend.tensorflow_backend import set_session\n",
    "    config = tf.ConfigProto()\n",
    "    #config.gpu_options.per_process_gpu_memory_fraction = 0.5\n",
    "    config.gpu_options.allow_growth = True\n",
    "    set_session(tf.Session(config=config))\n",
    "setGPU()\n",
    "\n",
    "print('libs loaded')"
   ]
  },
  {
   "cell_type": "code",
   "execution_count": 2,
   "metadata": {},
   "outputs": [
    {
     "name": "stdout",
     "output_type": "stream",
     "text": [
      "['case10_label11.npy', 'case6_label11.npy', 'case8_label11.npy', 'case10_label6.npy', 'case9_label19.npy', 'case2_label13.npy', 'case9_label7.npy', 'case5_label3.npy', 'case6_label15.npy', 'case6_label8.npy', 'case10_label4.npy', 'case9_label13.npy', 'case3_label6.npy', 'case2_label5.npy', 'case9_label12.npy', 'case6_label9.npy', 'case9_label17.npy', 'case9_label10.npy', 'case8_label12.npy', 'case8_label4.npy', 'case4_label14.npy', 'case9_label5.npy', 'case4_label6.npy', 'case8_label5.npy', 'case5_label8.npy', 'case4_label3.npy', 'case8_label9.npy', 'case8_label18.npy', 'case8_label15.npy', 'case6_label19.npy', 'case8_label10.npy', 'case9_label8.npy', 'case4_label11.npy', 'case5_label17.npy', 'case4_label12.npy', 'case3_label16.npy', 'case2_label8.npy', 'case2_label7.npy', 'case8_label19.npy', 'case3_label7.npy', 'case8_label8.npy', 'case4_label19.npy', 'case3_label15.npy', 'case6_label6.npy', 'case5_label18.npy', 'case4_label15.npy', 'case5_label5.npy', 'case4_label4.npy', 'case5_label2.npy', 'case3_label14.npy', 'case3_label13.npy', 'case10_label19.npy', 'case6_label5.npy', 'case10_label18.npy', 'case8_label3.npy', 'case3_label11.npy', 'case6_label18.npy', 'case4_label1.npy', 'case10_label5.npy', 'case4_label8.npy', 'case5_label12.npy', 'case8_label7.npy', 'case5_label10.npy', 'case5_label4.npy', 'case8_label14.npy', 'case3_label10.npy', 'case6_label4.npy', 'case4_label13.npy', 'case6_label16.npy', 'case8_label16.npy', 'case5_label19.npy', 'case2_label12.npy', 'case5_label11.npy', 'case2_label6.npy', 'case3_label8.npy', 'case5_label13.npy', 'case10_label17.npy', 'case6_label13.npy', 'case5_label14.npy', 'case2_label9.npy', 'case9_label2.npy', 'case10_label13.npy', 'case3_label5.npy', 'case9_label11.npy', 'case2_label4.npy', 'case8_label2.npy', 'case2_label18.npy', 'case10_label14.npy', 'case2_label3.npy', 'case10_label15.npy', 'case10_label3.npy', 'case5_label6.npy', 'case5_label7.npy', 'case2_label17.npy', 'case10_label8.npy', 'case2_label19.npy', 'case5_label16.npy', 'case4_label2.npy', 'case2_label10.npy', 'case3_label17.npy', 'case3_label3.npy', 'case9_label3.npy', 'case2_label16.npy', 'case9_label16.npy', 'case4_label7.npy', 'case6_label3.npy', 'case10_label12.npy', 'case4_label10.npy', 'case3_label9.npy', 'case6_label17.npy', 'case6_label7.npy', 'case2_label15.npy', 'case6_label10.npy', 'case2_label11.npy', 'case3_label18.npy', 'case9_label9.npy', 'case8_label6.npy', 'case10_label10.npy', 'case3_label19.npy', 'case6_label12.npy', 'case4_label9.npy', 'case8_label17.npy', 'case10_label9.npy', 'case9_label15.npy', 'case10_label16.npy', 'case8_label13.npy', 'case6_label14.npy', 'case9_label14.npy', 'case9_label18.npy', 'case5_label15.npy', 'case4_label5.npy', 'case3_label4.npy', 'case4_label16.npy', 'case9_label6.npy', 'case10_label7.npy', 'case2_label14.npy', 'case5_label9.npy', 'case3_label12.npy', 'case4_label17.npy', 'case9_label4.npy', 'case4_label18.npy', 'case10_label11.npy', 'case6_label11.npy', 'case8_label11.npy', 'case10_label6.npy', 'case9_label19.npy', 'case2_label13.npy', 'case9_label7.npy', 'case5_label3.npy', 'case6_label15.npy', 'case6_label8.npy', 'case10_label4.npy', 'case9_label13.npy', 'case3_label6.npy', 'case2_label5.npy', 'case9_label12.npy', 'case6_label9.npy', 'case9_label17.npy', 'case9_label10.npy', 'case8_label12.npy', 'case8_label4.npy', 'case4_label14.npy', 'case9_label5.npy', 'case4_label6.npy', 'case8_label5.npy', 'case5_label8.npy', 'case4_label3.npy', 'case8_label9.npy', 'case8_label18.npy', 'case8_label15.npy', 'case6_label19.npy', 'case8_label10.npy', 'case9_label8.npy', 'case4_label11.npy', 'case5_label17.npy', 'case4_label12.npy', 'case3_label16.npy', 'case2_label8.npy', 'case2_label7.npy', 'case8_label19.npy', 'case3_label7.npy', 'case8_label8.npy', 'case4_label19.npy', 'case3_label15.npy', 'case6_label6.npy', 'case5_label18.npy', 'case4_label15.npy', 'case5_label5.npy', 'case4_label4.npy', 'case5_label2.npy', 'case3_label14.npy', 'case3_label13.npy', 'case10_label19.npy', 'case6_label5.npy', 'case10_label18.npy', 'case8_label3.npy', 'case3_label11.npy', 'case6_label18.npy', 'case4_label1.npy', 'case10_label5.npy', 'case4_label8.npy', 'case5_label12.npy', 'case8_label7.npy', 'case5_label10.npy', 'case5_label4.npy', 'case8_label14.npy', 'case3_label10.npy', 'case6_label4.npy', 'case4_label13.npy', 'case6_label16.npy', 'case8_label16.npy', 'case5_label19.npy', 'case2_label12.npy', 'case5_label11.npy', 'case2_label6.npy', 'case3_label8.npy', 'case5_label13.npy', 'case10_label17.npy', 'case6_label13.npy', 'case5_label14.npy', 'case2_label9.npy', 'case9_label2.npy', 'case10_label13.npy', 'case3_label5.npy', 'case9_label11.npy', 'case2_label4.npy', 'case8_label2.npy', 'case2_label18.npy', 'case10_label14.npy', 'case2_label3.npy', 'case10_label15.npy', 'case10_label3.npy', 'case5_label6.npy', 'case5_label7.npy', 'case2_label17.npy', 'case10_label8.npy', 'case2_label19.npy', 'case5_label16.npy', 'case4_label2.npy', 'case2_label10.npy', 'case3_label17.npy', 'case3_label3.npy', 'case9_label3.npy', 'case2_label16.npy', 'case9_label16.npy', 'case4_label7.npy', 'case6_label3.npy', 'case10_label12.npy', 'case4_label10.npy', 'case3_label9.npy', 'case6_label17.npy', 'case6_label7.npy', 'case2_label15.npy', 'case6_label10.npy', 'case2_label11.npy', 'case3_label18.npy', 'case9_label9.npy', 'case8_label6.npy', 'case10_label10.npy', 'case3_label19.npy', 'case6_label12.npy', 'case4_label9.npy', 'case8_label17.npy', 'case10_label9.npy', 'case9_label15.npy', 'case10_label16.npy', 'case8_label13.npy', 'case6_label14.npy', 'case9_label14.npy', 'case9_label18.npy', 'case5_label15.npy', 'case4_label5.npy', 'case3_label4.npy', 'case4_label16.npy', 'case9_label6.npy', 'case10_label7.npy', 'case2_label14.npy', 'case5_label9.npy', 'case3_label12.npy', 'case4_label17.npy', 'case9_label4.npy', 'case4_label18.npy']\n",
      "['case1_label9.npy', 'case1_label6.npy', 'case1_label4.npy', 'case1_label19.npy', 'case1_label18.npy', 'case1_label3.npy', 'case1_label10.npy', 'case1_label2.npy', 'case1_label8.npy', 'case1_label17.npy', 'case1_label14.npy', 'case1_label16.npy', 'case1_label5.npy', 'case1_label15.npy', 'case1_label12.npy', 'case1_label11.npy', 'case1_label7.npy', 'case1_label13.npy', 'case1_label9.npy', 'case1_label6.npy', 'case1_label4.npy', 'case1_label19.npy', 'case1_label18.npy', 'case1_label3.npy', 'case1_label10.npy', 'case1_label2.npy', 'case1_label8.npy', 'case1_label17.npy', 'case1_label14.npy', 'case1_label16.npy', 'case1_label5.npy', 'case1_label15.npy', 'case1_label12.npy', 'case1_label11.npy', 'case1_label7.npy', 'case1_label13.npy']\n"
     ]
    }
   ],
   "source": [
    "# parameters\n",
    "data_path = '../data/seg_data/{}/'\n",
    "size = 128\n",
    "\n",
    "def load_filenames(path):\n",
    "    filenames = []\n",
    "    for (dirpath, dirnames, filenames) in walk(data_path.format('x')):\n",
    "        filenames.extend(filenames)\n",
    "        break\n",
    "    for f in filenames:\n",
    "        if not '.npy' in f:\n",
    "            del f\n",
    "    training_filenames = []\n",
    "    validation_filenames = []\n",
    "    for f in filenames:\n",
    "        if 'case1_' in f:\n",
    "            validation_filenames.append(f)\n",
    "        else:\n",
    "            training_filenames.append(f)\n",
    "            \n",
    "            \n",
    "    return training_filenames, validation_filenames\n",
    "    \n",
    "training_filenames, validation_filenames = load_filenames(data_path)\n",
    "\n",
    "print(training_filenames)\n",
    "print(validation_filenames)"
   ]
  },
  {
   "cell_type": "code",
   "execution_count": 3,
   "metadata": {},
   "outputs": [
    {
     "name": "stdout",
     "output_type": "stream",
     "text": [
      "(None, 128, 128, 128, 1)\n",
      "WARNING:tensorflow:From /home/ian/.local/lib/python3.6/site-packages/keras/backend/tensorflow_backend.py:1344: calling reduce_mean (from tensorflow.python.ops.math_ops) with keep_dims is deprecated and will be removed in a future version.\n",
      "Instructions for updating:\n",
      "keep_dims is deprecated, use keepdims instead\n",
      "__________________________________________________________________________________________________\n",
      "Layer (type)                    Output Shape         Param #     Connected to                     \n",
      "==================================================================================================\n",
      "input_1 (InputLayer)            (None, 128, 128, 128 0                                            \n",
      "__________________________________________________________________________________________________\n",
      "conv3d_1 (Conv3D)               (None, 128, 128, 128 112         input_1[0][0]                    \n",
      "__________________________________________________________________________________________________\n",
      "batch_normalization_1 (BatchNor (None, 128, 128, 128 16          conv3d_1[0][0]                   \n",
      "__________________________________________________________________________________________________\n",
      "activation_1 (Activation)       (None, 128, 128, 128 0           batch_normalization_1[0][0]      \n",
      "__________________________________________________________________________________________________\n",
      "conv3d_2 (Conv3D)               (None, 128, 128, 128 872         activation_1[0][0]               \n",
      "__________________________________________________________________________________________________\n",
      "batch_normalization_2 (BatchNor (None, 128, 128, 128 32          conv3d_2[0][0]                   \n",
      "__________________________________________________________________________________________________\n",
      "activation_2 (Activation)       (None, 128, 128, 128 0           batch_normalization_2[0][0]      \n",
      "__________________________________________________________________________________________________\n",
      "max_pooling3d_1 (MaxPooling3D)  (None, 64, 64, 64, 8 0           activation_2[0][0]               \n",
      "__________________________________________________________________________________________________\n",
      "conv3d_3 (Conv3D)               (None, 64, 64, 64, 8 1736        max_pooling3d_1[0][0]            \n",
      "__________________________________________________________________________________________________\n",
      "batch_normalization_3 (BatchNor (None, 64, 64, 64, 8 32          conv3d_3[0][0]                   \n",
      "__________________________________________________________________________________________________\n",
      "activation_3 (Activation)       (None, 64, 64, 64, 8 0           batch_normalization_3[0][0]      \n",
      "__________________________________________________________________________________________________\n",
      "conv3d_4 (Conv3D)               (None, 64, 64, 64, 1 3472        activation_3[0][0]               \n",
      "__________________________________________________________________________________________________\n",
      "batch_normalization_4 (BatchNor (None, 64, 64, 64, 1 64          conv3d_4[0][0]                   \n",
      "__________________________________________________________________________________________________\n",
      "activation_4 (Activation)       (None, 64, 64, 64, 1 0           batch_normalization_4[0][0]      \n",
      "__________________________________________________________________________________________________\n",
      "max_pooling3d_2 (MaxPooling3D)  (None, 32, 32, 32, 1 0           activation_4[0][0]               \n",
      "__________________________________________________________________________________________________\n",
      "conv3d_5 (Conv3D)               (None, 32, 32, 32, 1 6928        max_pooling3d_2[0][0]            \n",
      "__________________________________________________________________________________________________\n",
      "batch_normalization_5 (BatchNor (None, 32, 32, 32, 1 64          conv3d_5[0][0]                   \n",
      "__________________________________________________________________________________________________\n",
      "activation_5 (Activation)       (None, 32, 32, 32, 1 0           batch_normalization_5[0][0]      \n",
      "__________________________________________________________________________________________________\n",
      "conv3d_6 (Conv3D)               (None, 32, 32, 32, 3 13856       activation_5[0][0]               \n",
      "__________________________________________________________________________________________________\n",
      "batch_normalization_6 (BatchNor (None, 32, 32, 32, 3 128         conv3d_6[0][0]                   \n",
      "__________________________________________________________________________________________________\n",
      "activation_6 (Activation)       (None, 32, 32, 32, 3 0           batch_normalization_6[0][0]      \n",
      "__________________________________________________________________________________________________\n",
      "max_pooling3d_3 (MaxPooling3D)  (None, 16, 16, 16, 3 0           activation_6[0][0]               \n",
      "__________________________________________________________________________________________________\n",
      "conv3d_7 (Conv3D)               (None, 16, 16, 16, 3 27680       max_pooling3d_3[0][0]            \n",
      "__________________________________________________________________________________________________\n",
      "batch_normalization_7 (BatchNor (None, 16, 16, 16, 3 128         conv3d_7[0][0]                   \n",
      "__________________________________________________________________________________________________\n",
      "activation_7 (Activation)       (None, 16, 16, 16, 3 0           batch_normalization_7[0][0]      \n",
      "__________________________________________________________________________________________________\n",
      "conv3d_8 (Conv3D)               (None, 16, 16, 16, 6 55360       activation_7[0][0]               \n",
      "__________________________________________________________________________________________________\n",
      "batch_normalization_8 (BatchNor (None, 16, 16, 16, 6 256         conv3d_8[0][0]                   \n",
      "__________________________________________________________________________________________________\n",
      "activation_8 (Activation)       (None, 16, 16, 16, 6 0           batch_normalization_8[0][0]      \n",
      "__________________________________________________________________________________________________\n",
      "up_sampling3d_1 (UpSampling3D)  (None, 32, 32, 32, 6 0           activation_8[0][0]               \n",
      "__________________________________________________________________________________________________\n",
      "concatenate_1 (Concatenate)     (None, 32, 32, 32, 9 0           activation_6[0][0]               \n",
      "                                                                 up_sampling3d_1[0][0]            \n",
      "__________________________________________________________________________________________________\n",
      "conv3d_9 (Conv3D)               (None, 32, 32, 32, 3 82976       concatenate_1[0][0]              \n",
      "__________________________________________________________________________________________________\n",
      "batch_normalization_9 (BatchNor (None, 32, 32, 32, 3 128         conv3d_9[0][0]                   \n",
      "__________________________________________________________________________________________________\n",
      "activation_9 (Activation)       (None, 32, 32, 32, 3 0           batch_normalization_9[0][0]      \n",
      "__________________________________________________________________________________________________\n",
      "conv3d_10 (Conv3D)              (None, 32, 32, 32, 3 27680       activation_9[0][0]               \n",
      "__________________________________________________________________________________________________\n",
      "batch_normalization_10 (BatchNo (None, 32, 32, 32, 3 128         conv3d_10[0][0]                  \n",
      "__________________________________________________________________________________________________\n",
      "activation_10 (Activation)      (None, 32, 32, 32, 3 0           batch_normalization_10[0][0]     \n",
      "__________________________________________________________________________________________________\n",
      "up_sampling3d_2 (UpSampling3D)  (None, 64, 64, 64, 3 0           activation_10[0][0]              \n",
      "__________________________________________________________________________________________________\n",
      "concatenate_2 (Concatenate)     (None, 64, 64, 64, 4 0           activation_4[0][0]               \n",
      "                                                                 up_sampling3d_2[0][0]            \n",
      "__________________________________________________________________________________________________\n",
      "conv3d_11 (Conv3D)              (None, 64, 64, 64, 1 20752       concatenate_2[0][0]              \n",
      "__________________________________________________________________________________________________\n",
      "batch_normalization_11 (BatchNo (None, 64, 64, 64, 1 64          conv3d_11[0][0]                  \n",
      "__________________________________________________________________________________________________\n",
      "activation_11 (Activation)      (None, 64, 64, 64, 1 0           batch_normalization_11[0][0]     \n",
      "__________________________________________________________________________________________________\n",
      "conv3d_12 (Conv3D)              (None, 64, 64, 64, 1 6928        activation_11[0][0]              \n",
      "__________________________________________________________________________________________________\n",
      "batch_normalization_12 (BatchNo (None, 64, 64, 64, 1 64          conv3d_12[0][0]                  \n",
      "__________________________________________________________________________________________________\n",
      "activation_12 (Activation)      (None, 64, 64, 64, 1 0           batch_normalization_12[0][0]     \n",
      "__________________________________________________________________________________________________\n",
      "up_sampling3d_3 (UpSampling3D)  (None, 128, 128, 128 0           activation_12[0][0]              \n",
      "__________________________________________________________________________________________________\n",
      "concatenate_3 (Concatenate)     (None, 128, 128, 128 0           activation_2[0][0]               \n",
      "                                                                 up_sampling3d_3[0][0]            \n",
      "__________________________________________________________________________________________________\n",
      "conv3d_13 (Conv3D)              (None, 128, 128, 128 5192        concatenate_3[0][0]              \n",
      "__________________________________________________________________________________________________\n",
      "batch_normalization_13 (BatchNo (None, 128, 128, 128 32          conv3d_13[0][0]                  \n",
      "__________________________________________________________________________________________________\n",
      "activation_13 (Activation)      (None, 128, 128, 128 0           batch_normalization_13[0][0]     \n",
      "__________________________________________________________________________________________________\n",
      "conv3d_14 (Conv3D)              (None, 128, 128, 128 1736        activation_13[0][0]              \n",
      "__________________________________________________________________________________________________\n",
      "batch_normalization_14 (BatchNo (None, 128, 128, 128 32          conv3d_14[0][0]                  \n",
      "__________________________________________________________________________________________________\n",
      "activation_14 (Activation)      (None, 128, 128, 128 0           batch_normalization_14[0][0]     \n",
      "__________________________________________________________________________________________________\n",
      "conv3d_15 (Conv3D)              (None, 128, 128, 128 217         activation_14[0][0]              \n",
      "__________________________________________________________________________________________________\n",
      "batch_normalization_15 (BatchNo (None, 128, 128, 128 4           conv3d_15[0][0]                  \n",
      "__________________________________________________________________________________________________\n",
      "activation_15 (Activation)      (None, 128, 128, 128 0           batch_normalization_15[0][0]     \n",
      "==================================================================================================\n",
      "Total params: 256,669\n",
      "Trainable params: 256,083\n",
      "Non-trainable params: 586\n",
      "__________________________________________________________________________________________________\n"
     ]
    }
   ],
   "source": [
    "\n",
    "def model():\n",
    "    from keras.models import Model\n",
    "    from keras.layers import Input, Conv3D, MaxPooling3D, UpSampling3D, Concatenate, BatchNormalization, Activation, Dense, Flatten\n",
    "    \n",
    "    def conv(input_tensor, depth):\n",
    "        conv_tensor = Conv3D(depth, 3, padding = 'same', kernel_initializer = 'he_normal')(input_tensor)\n",
    "        bn = BatchNormalization()(conv_tensor) # use_bias=False\n",
    "        output_tensor = Activation('relu')(bn)\n",
    "        return output_tensor\n",
    "    \n",
    "    def pool(input_tensor):\n",
    "        output_tensor = MaxPooling3D(pool_size=(2, 2, 2))(input_tensor)\n",
    "        return output_tensor\n",
    "    \n",
    "    def up(input_tensor):\n",
    "        output_tensor = UpSampling3D(size=(2, 2, 2))(input_tensor)\n",
    "        return output_tensor\n",
    "    \n",
    "    def skip(input_tensor1, input_tensor2):\n",
    "        output_tensor = Concatenate(axis=-1)([input_tensor1, input_tensor2])\n",
    "        return output_tensor\n",
    "    \n",
    "    depth = 4\n",
    "    \n",
    "    input_img = Input(shape=(size, size, size, 1))\n",
    "    \n",
    "    conv1 = conv(input_img, depth)\n",
    "    conv2 = conv(conv1, depth * 2)\n",
    "    \n",
    "    pool1 = pool(conv2)\n",
    "    \n",
    "    conv3 = conv(pool1, depth * 2)\n",
    "    conv4 = conv(conv3, depth * 4)\n",
    "    \n",
    "    pool2 = pool(conv4)\n",
    "    \n",
    "    conv5 = conv(pool2, depth * 4)\n",
    "    conv6 = conv(conv5, depth * 8)\n",
    "    \n",
    "    pool3 = pool(conv6)\n",
    "    \n",
    "    conv7 = conv(pool3, depth * 8)\n",
    "    conv8 = conv(conv7, depth * 16)   \n",
    "\n",
    "    up1 = up(conv8)\n",
    "    \n",
    "    skip1 = skip(conv6, up1)\n",
    "    \n",
    "    conv9 = conv(skip1, depth * 8)\n",
    "    conv10 = conv(conv9, depth * 8)\n",
    "    \n",
    "    up2   = up(conv10)\n",
    "    \n",
    "    skip2 = skip(conv4, up2)\n",
    "    \n",
    "    conv11 = conv(skip2, depth * 4)\n",
    "    conv12 = conv(conv11, depth * 4)\n",
    "    \n",
    "    up3   = up(conv12)\n",
    "    \n",
    "    skip3 = skip(conv2, up3)\n",
    "    \n",
    "    conv13 = conv(skip3, depth * 2)\n",
    "    conv14 = conv(conv13, depth * 2)    \n",
    "   \n",
    "    conv15 = conv(conv14, 1)\n",
    "\n",
    "    output_img = conv15\n",
    "    \n",
    "    # model\n",
    "    model = Model(inputs=input_img, outputs=output_img)\n",
    "    print (model.output_shape)\n",
    "\n",
    "    # optimizer\n",
    "    opt = keras.optimizers.Adam(lr=1e-2)#32-5,16-3\n",
    "    \n",
    "    model.compile(optimizer=opt,\n",
    "                  loss = 'mse',\n",
    "                  metrics=['accuracy'])\n",
    "    \n",
    "    model.summary()\n",
    "    \n",
    "    return model\n",
    "\n",
    "model = model()"
   ]
  },
  {
   "cell_type": "code",
   "execution_count": 4,
   "metadata": {},
   "outputs": [],
   "source": [
    "import re\n",
    "\n",
    "def generator(batch_size, filenames):\n",
    "    while 1:\n",
    "        shape = (batch_size, size, size, size, 1)\n",
    "        shape2 = (batch_size, 20)\n",
    "        \n",
    "        x_out = np.zeros(shape)\n",
    "        y_out = np.zeros(shape)\n",
    "        y_out2 = np.zeros(shape2)\n",
    "        \n",
    "        for i in range(batch_size):\n",
    "            filename = random.choice(filenames)\n",
    "            #filename = filenames[0]\n",
    "            x = np.load(data_path.format('x') + filename)\n",
    "            y = np.load(data_path.format('y') + filename)\n",
    "            x = np.reshape(x, (size, size, size, -1))\n",
    "            y = np.reshape(y, (size, size, size, -1))\n",
    "            \n",
    "            x_out[i] = x\n",
    "            y_out[i] = y\n",
    "            \n",
    "            label = int(re.sub(\"\\D\", \"\", filename.split('_')[0]))\n",
    "            label_one_hot = [0] * 20\n",
    "            label_one_hot[label] = 1\n",
    "            \n",
    "            y_out2[i] = label_one_hot\n",
    "            \n",
    "        #yield (x_out, y_out)\n",
    "        yield (x_out, y_out)"
   ]
  },
  {
   "cell_type": "code",
   "execution_count": null,
   "metadata": {},
   "outputs": [
    {
     "name": "stdout",
     "output_type": "stream",
     "text": [
      "Epoch 1/2000\n",
      " 4/10 [===========>..................] - ETA: 5s - loss: 0.0089 - acc: 0.9874"
     ]
    }
   ],
   "source": [
    "# from keras.callbacks import EarlyStopping\n",
    "# early_stopping = EarlyStopping(monitor='val_loss',\n",
    "#                                min_delta=0,\n",
    "#                                patience=2,\n",
    "#                                verbose=0,\n",
    "#                                mode='auto')\n",
    "from keras.callbacks import ModelCheckpoint\n",
    "checkpoint = ModelCheckpoint('./save/model.weights.best.h5', verbose=1, monitor='val_loss',save_best_only=False, mode='min') \n",
    "\n",
    "history = model.fit_generator(  generator(4, training_filenames),\n",
    "                                validation_data=generator(8, validation_filenames),\n",
    "                                steps_per_epoch=10,\n",
    "                                validation_steps = 10,\n",
    "                                epochs=2000,\n",
    "                                callbacks=[checkpoint])"
   ]
  },
  {
   "cell_type": "code",
   "execution_count": null,
   "metadata": {},
   "outputs": [],
   "source": [
    "def plot_result():\n",
    "    # list all data in history\n",
    "    print(history.history.keys())\n",
    "    # summarize history for accuracy\n",
    "    plt.plot(history.history['acc'])\n",
    "    plt.plot(history.history['val_acc'])\n",
    "    plt.title('model accuracy')\n",
    "    plt.ylabel('accuracy')\n",
    "    plt.xlabel('epoch')\n",
    "    plt.legend(['train', 'test'], loc='upper left')\n",
    "    plt.show()\n",
    "    # summarize history for loss\n",
    "    plt.plot(history.history['loss'])\n",
    "    plt.plot(history.history['val_loss'])\n",
    "    plt.title('model loss')\n",
    "    plt.ylabel('loss')\n",
    "    plt.xlabel('epoch')\n",
    "    plt.legend(['train', 'test'], loc='upper left')\n",
    "    plt.show()\n",
    "    \n",
    "plot_result()"
   ]
  },
  {
   "cell_type": "code",
   "execution_count": null,
   "metadata": {},
   "outputs": [],
   "source": []
  },
  {
   "cell_type": "code",
   "execution_count": 23,
   "metadata": {},
   "outputs": [],
   "source": [
    "\n",
    "#model.save_weights('./save/model_weights.h5')"
   ]
  },
  {
   "cell_type": "code",
   "execution_count": 25,
   "metadata": {},
   "outputs": [],
   "source": [
    "del model"
   ]
  },
  {
   "cell_type": "code",
   "execution_count": 10,
   "metadata": {},
   "outputs": [
    {
     "name": "stdout",
     "output_type": "stream",
     "text": [
      "case1_label19.npy\n"
     ]
    },
    {
     "data": {
      "image/png": "[encoded data removed]",
      "text/plain": [
       "<Figure size 432x288 with 1 Axes>"
      ]
     },
     "metadata": {
      "needs_background": "light"
     },
     "output_type": "display_data"
    }
   ],
   "source": [
    "filename = validation_filenames[3]\n",
    "print(filename)\n",
    "x = np.load(data_path.format('x') + filename)\n",
    "plt.imshow(x[:,:,65], cmap='gray')\n",
    "x = np.reshape(x, (1, 128, 128, 128, -1))"
   ]
  },
  {
   "cell_type": "code",
   "execution_count": 11,
   "metadata": {},
   "outputs": [
    {
     "name": "stdout",
     "output_type": "stream",
     "text": [
      "(1, 128, 128, 128, 1)\n",
      "0.4427474\n"
     ]
    },
    {
     "data": {
      "text/plain": [
       "<matplotlib.image.AxesImage at 0x7f48bae6e048>"
      ]
     },
     "execution_count": 11,
     "metadata": {},
     "output_type": "execute_result"
    },
    {
     "data": {
      "image/png": "[encoded data removed]",
      "text/plain": [
       "<Figure size 432x288 with 1 Axes>"
      ]
     },
     "metadata": {
      "needs_background": "light"
     },
     "output_type": "display_data"
    }
   ],
   "source": [
    "y = model.predict(x)\n",
    "print(y.shape)\n",
    "y = np.reshape(y, (128, 128, 128))\n",
    "print(np.max(y))\n",
    "plt.imshow(y[:,:,65], cmap='gray')"
   ]
  },
  {
   "cell_type": "code",
   "execution_count": null,
   "metadata": {},
   "outputs": [],
   "source": [
    "y = np.load(data_path.format('y') + validation_filenames[0])\n",
    "plt.imshow(y[:,:,65], cmap='gray')"
   ]
  },
  {
   "cell_type": "code",
   "execution_count": null,
   "metadata": {},
   "outputs": [],
   "source": []
  },
  {
   "cell_type": "code",
   "execution_count": 18,
   "metadata": {},
   "outputs": [],
   "source": [
    "model.load_weights('./save/model.weights.best.h5')"
   ]
  },
  {
   "cell_type": "code",
   "execution_count": null,
   "metadata": {},
   "outputs": [],
   "source": []
  },
  {
   "cell_type": "code",
   "execution_count": 26,
   "metadata": {},
   "outputs": [
    {
     "name": "stdout",
     "output_type": "stream",
     "text": [
      "case9\n",
      "9\n",
      "[0, 0, 0, 0, 0, 0, 0, 0, 0, 1, 0, 0, 0, 0, 0, 0, 0, 0, 0, 0]\n"
     ]
    }
   ],
   "source": [
    "import random\n",
    "import re\n",
    "\n",
    "def generator(batch_size, filenames):\n",
    "    size = 128\n",
    "    \n",
    "    shape = (batch_size, size, size, size, 1)\n",
    "\n",
    "    x_out = np.zeros(shape)\n",
    "    y_out = np.zeros(shape)\n",
    "\n",
    "    for i in range(batch_size):\n",
    "        filename = random.choice(filenames)\n",
    "        #filename = filenames[0]\n",
    "        x = np.load(data_path.format('x') + filename)\n",
    "        y = np.load(data_path.format('y') + filename)\n",
    "        x = np.reshape(x, (size, size, size, -1))\n",
    "        y = np.reshape(y, (size, size, size, -1))\n",
    "\n",
    "        x_out[i] = x\n",
    "        y_out[i] = y\n",
    "    \n",
    "        print(filename.split('_')[0])\n",
    "        print(int(re.sub(\"\\D\", \"\", filename.split('_')[0])))\n",
    "        \n",
    "        label = int(re.sub(\"\\D\", \"\", filename.split('_')[0]))\n",
    "        y_out2 = [0] * 20\n",
    "        y_out2[label] = 1\n",
    "        print(y_out2)\n",
    "        \n",
    "generator(1, training_filenames)"
   ]
  },
  {
   "cell_type": "code",
   "execution_count": 31,
   "metadata": {},
   "outputs": [
    {
     "name": "stdout",
     "output_type": "stream",
     "text": [
      "1\n"
     ]
    }
   ],
   "source": [
    "print(random.randint(-2,2))"
   ]
  },
  {
   "cell_type": "code",
   "execution_count": 25,
   "metadata": {},
   "outputs": [
    {
     "name": "stdout",
     "output_type": "stream",
     "text": [
      "(0, 125)\n"
     ]
    }
   ],
   "source": [
    "    x_bias, y_bias, z_bias = random.randint(-2,2), random.randint(-2,2), random.randint(-2,2)\n",
    "    x_range = (x_bias, 127) if x_bias > 0 else (0, size + x_bias -1)\n",
    "    y_range = (y_bias, 127) if y_bias > 0 else (0, size + y_bias -1)\n",
    "    z_range = (z_bias, 127) if z_bias > 0 else (0, size + z_bias -1)\n",
    "    print(x_range)"
   ]
  },
  {
   "cell_type": "code",
   "execution_count": null,
   "metadata": {},
   "outputs": [],
   "source": []
  },
  {
   "cell_type": "code",
   "execution_count": null,
   "metadata": {},
   "outputs": [],
   "source": []
  },
  {
   "cell_type": "code",
   "execution_count": null,
   "metadata": {},
   "outputs": [],
   "source": []
  }
 ],
 "metadata": {
  "kernelspec": {
   "display_name": "Python 3",
   "language": "python",
   "name": "python3"
  },
  "language_info": {
   "codemirror_mode": {
    "name": "ipython",
    "version": 3
   },
   "file_extension": ".py",
   "mimetype": "text/x-python",
   "name": "python",
   "nbconvert_exporter": "python",
   "pygments_lexer": "ipython3",
   "version": "3.6.7"
  }
 },
 "nbformat": 4,
 "nbformat_minor": 2
}
